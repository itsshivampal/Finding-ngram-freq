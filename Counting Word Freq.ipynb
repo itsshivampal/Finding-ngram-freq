{
 "cells": [
  {
   "cell_type": "code",
   "execution_count": 1,
   "metadata": {},
   "outputs": [],
   "source": [
    "import pandas as pd\n",
    "\n",
    "import re\n",
    "\n",
    "import nltk\n",
    "\n",
    "from nltk.stem.porter import PorterStemmer\n",
    "from nltk.stem import WordNetLemmatizer\n",
    "from nltk.corpus import stopwords\n",
    "from nltk.tokenize import word_tokenize\n",
    "from nltk import ngrams"
   ]
  },
  {
   "cell_type": "markdown",
   "metadata": {},
   "source": [
    "## Text Cleaning"
   ]
  },
  {
   "cell_type": "code",
   "execution_count": 35,
   "metadata": {},
   "outputs": [],
   "source": [
    "def porter_stemming(text):\n",
    "    porter_stemmer  = PorterStemmer()\n",
    "    word_tokens = text.split(\" \")\n",
    "    words = [porter_stemmer.stem(word) for word in word_tokens]\n",
    "    new_text = \" \".join(words)\n",
    "    return new_text\n",
    "\n",
    "\n",
    "def wordnet_lemmatization(text):\n",
    "    wordnet_lemmatizer = WordNetLemmatizer()\n",
    "    word_tokens = text.split(\" \")\n",
    "    words = [wordnet_lemmatizer.lemmatize(word) for word in word_tokens]\n",
    "    new_text = \" \".join(words)\n",
    "    return new_text\n",
    "\n",
    "\n",
    "def remove_stopwords(text):\n",
    "    stop_words = set(stopwords.words('english'))\n",
    "    word_tokens = word_tokenize(text)\n",
    "    filtered_sentence = [w for w in word_tokens if not w in stop_words]\n",
    "    filtered_sentence = []\n",
    "    for w in word_tokens:\n",
    "        if w not in stop_words:\n",
    "            filtered_sentence.append(w)\n",
    "    sentence = \" \".join(filtered_sentence)\n",
    "    return sentence\n",
    "\n",
    "\n",
    "def remove_punctuations(text):\n",
    "    new_text = \"\"\n",
    "    punctuations = \"!\\\"#$%&()*+-.,:;<=>?@[\\]^_{|}~\"\n",
    "    for ch in text:\n",
    "        if ch not in punctuations:\n",
    "            new_text += ch\n",
    "        else:\n",
    "            new_text += \" \"\n",
    "    return new_text\n",
    "\n",
    "\n",
    "def text_cleaning(content):\n",
    "    content = str(content)\n",
    "    content = content.lower()\n",
    "    content = re.sub(r'\\d+', '', content)\n",
    "    content = remove_punctuations(content)\n",
    "#     content = remove_stopwords(content)\n",
    "#     content = porter_stemming(content)\n",
    "#     content = wordnet_lemmatization(content)\n",
    "    content = content.strip()\n",
    "    return content\n",
    "\n",
    "def messageCleaning(message):\n",
    "    cleanMsg = []\n",
    "    for msg in message:\n",
    "        text = text_cleaning(msg)\n",
    "        cleanMsg.append(text)\n",
    "    return cleanMsg"
   ]
  },
  {
   "cell_type": "markdown",
   "metadata": {},
   "source": [
    "## Saving Data"
   ]
  },
  {
   "cell_type": "code",
   "execution_count": 37,
   "metadata": {},
   "outputs": [],
   "source": [
    "def saveData(msgFreqDist, name):\n",
    "    df_fdist = pd.DataFrame.from_dict(msgFreqDist, orient='index')\n",
    "    df_fdist.columns = ['Frequency']\n",
    "    df_fdist.index.name = 'Word'\n",
    "    df_fdist.to_csv(name)\n",
    "    return df_fdist"
   ]
  },
  {
   "cell_type": "markdown",
   "metadata": {},
   "source": [
    "## NGram Collection"
   ]
  },
  {
   "cell_type": "code",
   "execution_count": 47,
   "metadata": {},
   "outputs": [],
   "source": [
    "def getNgram(msg, n):\n",
    "    ngram = []\n",
    "    stringArray = ngrams(msg, n)\n",
    "    for grams in stringArray:\n",
    "        ngram.append(\" \".join(grams))\n",
    "    return ngram\n",
    "\n",
    "def getNgramArray(message, n):\n",
    "    ngramArray = []\n",
    "    for msg in message:\n",
    "#         msg = text_cleaning(msg)\n",
    "        msg = word_tokenize(msg)\n",
    "        ngramArray += getNgram(msg, n)\n",
    "    return ngramArray\n",
    "\n",
    "\n",
    "def getGramCollection(n):\n",
    "    onegramCollection = []\n",
    "    onegramCollection += getNgramArray(msg1, n)\n",
    "    onegramCollection += getNgramArray(msg2, n)\n",
    "    onegramCollection += getNgramArray(msg3, n)\n",
    "    onegramCollection += getNgramArray(msg4, n)\n",
    "    return onegramCollection\n",
    "\n",
    "def saveFregDist(n, name):\n",
    "    gramCollection = getGramCollection(n)\n",
    "    msgFreqDist = nltk.FreqDist(gramCollection)\n",
    "    df = saveData(msgFreqDist, name)\n",
    "    print(df)\n",
    "    return df"
   ]
  },
  {
   "cell_type": "code",
   "execution_count": null,
   "metadata": {},
   "outputs": [],
   "source": []
  },
  {
   "cell_type": "code",
   "execution_count": null,
   "metadata": {},
   "outputs": [],
   "source": []
  },
  {
   "cell_type": "markdown",
   "metadata": {},
   "source": [
    "## Main Code"
   ]
  },
  {
   "cell_type": "code",
   "execution_count": 39,
   "metadata": {},
   "outputs": [],
   "source": [
    "# Importing data from CSV files\n",
    "msg1 = pd.read_csv('Data/May2020-NotesMsg.csv')['msg'].values\n",
    "msg1 = messageCleaning(msg1)\n",
    "msg2 = pd.read_csv('Data/June2020-NotesMsg.csv')['msg'].values\n",
    "msg2 = messageCleaning(msg2)\n",
    "msg3 = pd.read_csv('Data/July2020-NotesMsg.csv')['msg'].values\n",
    "msg3 = messageCleaning(msg3)\n",
    "msg4 = pd.read_csv('Data/August2020-NotesMsg.csv')['msg'].values\n",
    "msg4 = messageCleaning(msg4)"
   ]
  },
  {
   "cell_type": "code",
   "execution_count": null,
   "metadata": {},
   "outputs": [],
   "source": []
  },
  {
   "cell_type": "markdown",
   "metadata": {},
   "source": [
    "### 1-gram distribution"
   ]
  },
  {
   "cell_type": "code",
   "execution_count": 28,
   "metadata": {},
   "outputs": [
    {
     "name": "stdout",
     "output_type": "stream",
     "text": [
      "                            Frequency\n",
      "Word                                 \n",
      "जुलाई                            1150\n",
      "से                               6772\n",
      "सभी                              3094\n",
      "स्कूल                            1525\n",
      "खुलेंगे                             1\n",
      "...                               ...\n",
      "com/z/ittoe                         1\n",
      "com/z/jswzp/efbadeadcafbfc          1\n",
      "com/z/jswzp                         1\n",
      "com/z/julc/efbadeadcafbfc           1\n",
      "com/z/julc                          1\n",
      "\n",
      "[284267 rows x 1 columns]\n"
     ]
    }
   ],
   "source": [
    "n = 1\n",
    "name = 'singleWordFreq.csv'\n",
    "df1 = saveFregDist(n, name)"
   ]
  },
  {
   "cell_type": "markdown",
   "metadata": {},
   "source": [
    "### 2-gram distribution"
   ]
  },
  {
   "cell_type": "code",
   "execution_count": 29,
   "metadata": {},
   "outputs": [
    {
     "name": "stdout",
     "output_type": "stream",
     "text": [
      "                                    Frequency\n",
      "Word                                         \n",
      "जुलाई से                                   87\n",
      "से सभी                                     48\n",
      "सभी स्कूल                                  18\n",
      "स्कूल खुलेंगे                               1\n",
      "answer following                          431\n",
      "...                                       ...\n",
      "theuolo com/z/ittoe                         1\n",
      "theuolo com/z/jswzp/efbadeadcafbfc          1\n",
      "theuolo com/z/jswzp                         1\n",
      "theuolo com/z/julc/efbadeadcafbfc           1\n",
      "theuolo com/z/julc                          1\n",
      "\n",
      "[963711 rows x 1 columns]\n"
     ]
    }
   ],
   "source": [
    "n = 2\n",
    "name = 'twoWordFreq.csv'\n",
    "df2 = saveFregDist(n, name)"
   ]
  },
  {
   "cell_type": "markdown",
   "metadata": {},
   "source": [
    "### 3-gram distribution"
   ]
  },
  {
   "cell_type": "code",
   "execution_count": 30,
   "metadata": {},
   "outputs": [
    {
     "name": "stdout",
     "output_type": "stream",
     "text": [
      "                                            Frequency\n",
      "Word                                                 \n",
      "जुलाई से सभी                                        1\n",
      "से सभी स्कूल                                        1\n",
      "सभी स्कूल खुलेंगे                                   1\n",
      "hello thaslima welcome                              1\n",
      "thaslima welcome uolo                               2\n",
      "...                                               ...\n",
      "service theuolo com/z/ittoe                         1\n",
      "service theuolo com/z/jswzp/efbadeadcafbfc          1\n",
      "service theuolo com/z/jswzp                         1\n",
      "service theuolo com/z/julc/efbadeadcafbfc           1\n",
      "service theuolo com/z/julc                          1\n",
      "\n",
      "[1580652 rows x 1 columns]\n"
     ]
    }
   ],
   "source": [
    "n = 3\n",
    "name = 'threeWordFreq.csv'\n",
    "df3 = saveFregDist(n, name)"
   ]
  },
  {
   "cell_type": "markdown",
   "metadata": {},
   "source": [
    "### 4-gram distrbution"
   ]
  },
  {
   "cell_type": "code",
   "execution_count": 31,
   "metadata": {},
   "outputs": [
    {
     "name": "stdout",
     "output_type": "stream",
     "text": [
      "                                                 Frequency\n",
      "Word                                                      \n",
      "जुलाई से सभी स्कूल                                       1\n",
      "से सभी स्कूल खुलेंगे                                     1\n",
      "hello thaslima welcome uolo                              1\n",
      "thaslima welcome uolo congratulations                    2\n",
      "welcome uolo congratulations winning                 22525\n",
      "...                                                    ...\n",
      "//vc service theuolo com/z/ittoe                         1\n",
      "//vc service theuolo com/z/jswzp/efbadeadcafbfc          1\n",
      "//vc service theuolo com/z/jswzp                         1\n",
      "//vc service theuolo com/z/julc/efbadeadcafbfc           1\n",
      "//vc service theuolo com/z/julc                          1\n",
      "\n",
      "[1851726 rows x 1 columns]\n"
     ]
    }
   ],
   "source": [
    "n = 4\n",
    "name = 'fourWordFreq.csv'\n",
    "df4 = saveFregDist(n, name)"
   ]
  },
  {
   "cell_type": "markdown",
   "metadata": {},
   "source": [
    "### 5-gram distribution"
   ]
  },
  {
   "cell_type": "code",
   "execution_count": 40,
   "metadata": {},
   "outputs": [
    {
     "name": "stdout",
     "output_type": "stream",
     "text": [
      "                                                    Frequency\n",
      "Word                                                         \n",
      "जुलाई से सभी स्कूल खुलेंगे                                  1\n",
      "hello thaslima welcome to uolo                              1\n",
      "thaslima welcome to uolo congratulations                    2\n",
      "welcome to uolo congratulations for                     22525\n",
      "to uolo congratulations for winning                     22525\n",
      "...                                                       ...\n",
      "https //vc service theuolo com/z/ittoe                      1\n",
      "https //vc service theuolo com/z/jswzp/efbadead...          1\n",
      "https //vc service theuolo com/z/jswzp                      1\n",
      "https //vc service theuolo com/z/julc/efbadeadc...          1\n",
      "https //vc service theuolo com/z/julc                       1\n",
      "\n",
      "[2548390 rows x 1 columns]\n"
     ]
    }
   ],
   "source": [
    "n = 5\n",
    "name = 'fiveWordFreq.csv'\n",
    "df5 = saveFregDist(n, name)"
   ]
  },
  {
   "cell_type": "markdown",
   "metadata": {},
   "source": [
    "### 6-gram distribution"
   ]
  },
  {
   "cell_type": "code",
   "execution_count": 41,
   "metadata": {},
   "outputs": [
    {
     "name": "stdout",
     "output_type": "stream",
     "text": [
      "                                                    Frequency\n",
      "Word                                                         \n",
      "hello thaslima welcome to uolo congratulations              1\n",
      "thaslima welcome to uolo congratulations for                2\n",
      "welcome to uolo congratulations for winning             22525\n",
      "to uolo congratulations for winning a                   22525\n",
      "uolo congratulations for winning a gift                 22525\n",
      "...                                                       ...\n",
      "am https //vc service theuolo com/z/ittoe                   1\n",
      "link https //vc service theuolo com/z/jswzp/efb...          1\n",
      "am https //vc service theuolo com/z/jswzp                   1\n",
      "link https //vc service theuolo com/z/julc/efba...          1\n",
      "am https //vc service theuolo com/z/julc                    1\n",
      "\n",
      "[2700730 rows x 1 columns]\n"
     ]
    }
   ],
   "source": [
    "n = 6\n",
    "name = 'sixWordFreq.csv'\n",
    "df6 = saveFregDist(n, name)"
   ]
  },
  {
   "cell_type": "markdown",
   "metadata": {},
   "source": [
    "### 7-gram distribution"
   ]
  },
  {
   "cell_type": "code",
   "execution_count": 42,
   "metadata": {},
   "outputs": [
    {
     "name": "stdout",
     "output_type": "stream",
     "text": [
      "                                                    Frequency\n",
      "Word                                                         \n",
      "hello thaslima welcome to uolo congratulations for          1\n",
      "thaslima welcome to uolo congratulations for wi...          2\n",
      "welcome to uolo congratulations for winning a           22525\n",
      "to uolo congratulations for winning a gift              22525\n",
      "uolo congratulations for winning a gift voucher         22525\n",
      "...                                                       ...\n",
      "aug am https //vc service theuolo com/z/ittoe               1\n",
      "the link https //vc service theuolo com/z/jswzp...          1\n",
      "aug am https //vc service theuolo com/z/jswzp               1\n",
      "the link https //vc service theuolo com/z/julc/...          1\n",
      "aug am https //vc service theuolo com/z/julc                1\n",
      "\n",
      "[2740215 rows x 1 columns]\n"
     ]
    }
   ],
   "source": [
    "n = 7\n",
    "name = 'sevenWordFreq.csv'\n",
    "df7 = saveFregDist(n, name)"
   ]
  },
  {
   "cell_type": "code",
   "execution_count": null,
   "metadata": {},
   "outputs": [],
   "source": []
  },
  {
   "cell_type": "code",
   "execution_count": null,
   "metadata": {},
   "outputs": [],
   "source": []
  },
  {
   "cell_type": "markdown",
   "metadata": {},
   "source": [
    "## Sorting Data"
   ]
  },
  {
   "cell_type": "code",
   "execution_count": 73,
   "metadata": {},
   "outputs": [],
   "source": [
    "def sortDataByFileName(name):\n",
    "    df1 = pd.read_csv('required_data/'+name)\\\n",
    "            .sort_values(by=['Frequency'], ascending=False)\\\n",
    "            .reset_index()[['Word', 'Frequency']]\\\n",
    "            .iloc[:1000000]\n",
    "\n",
    "    df1.to_csv('sorted_data/'+ name)\n",
    "    print(df1)"
   ]
  },
  {
   "cell_type": "code",
   "execution_count": 74,
   "metadata": {},
   "outputs": [
    {
     "name": "stdout",
     "output_type": "stream",
     "text": [
      "                Word  Frequency\n",
      "0              class     399806\n",
      "1              https     399454\n",
      "2             online     308624\n",
      "3            theuolo     287383\n",
      "4               dear     282670\n",
      "...              ...        ...\n",
      "284262  প্ৰদূষণমুক্ত          1\n",
      "284263        ধোঁৱাক          1\n",
      "284264       উদ্যোগৰ          1\n",
      "284265          আগতে          1\n",
      "284266    com/z/julc          1\n",
      "\n",
      "[284267 rows x 2 columns]\n"
     ]
    }
   ],
   "source": [
    "sortDataByFileName('singleWordFreq.csv')"
   ]
  },
  {
   "cell_type": "code",
   "execution_count": 75,
   "metadata": {},
   "outputs": [
    {
     "name": "stdout",
     "output_type": "stream",
     "text": [
      "                        Word  Frequency\n",
      "0               online class     219393\n",
      "1            service theuolo     200165\n",
      "2               //vc service     200165\n",
      "3                 https //vc     200165\n",
      "4        feedback assignment     182096\n",
      "...                      ...        ...\n",
      "963706      username deepakm          1\n",
      "963707       apithgowdas stu          1\n",
      "963708  username apithgowdas          1\n",
      "963709         anveethsp stu          1\n",
      "963710    theuolo com/z/julc          1\n",
      "\n",
      "[963711 rows x 2 columns]\n"
     ]
    }
   ],
   "source": [
    "sortDataByFileName('twoWordFreq.csv')"
   ]
  },
  {
   "cell_type": "code",
   "execution_count": 76,
   "metadata": {},
   "outputs": [
    {
     "name": "stdout",
     "output_type": "stream",
     "text": [
      "                               Word  Frequency\n",
      "0              //vc service theuolo     200165\n",
      "1                https //vc service     200165\n",
      "2               going start minutes      88115\n",
      "3               clicking link https      88109\n",
      "4                     also write us      87125\n",
      "...                             ...        ...\n",
      "999995                 big data mlm          1\n",
      "999996   jayanthi assignment posted          1\n",
      "999997            big data syllabus          1\n",
      "999998         ready pencil collins          1\n",
      "999999  test completed successfully          1\n",
      "\n",
      "[1000000 rows x 2 columns]\n"
     ]
    }
   ],
   "source": [
    "sortDataByFileName('threeWordFreq.csv')"
   ]
  },
  {
   "cell_type": "code",
   "execution_count": 77,
   "metadata": {},
   "outputs": [
    {
     "name": "stdout",
     "output_type": "stream",
     "text": [
      "                                   Word  Frequency\n",
      "0            https //vc service theuolo     200165\n",
      "1                us support theuolo com      87097\n",
      "2                  time time update new      87097\n",
      "3              ms tio receive important      87097\n",
      "4          tio receive important school      87097\n",
      "...                                 ...        ...\n",
      "999995      anthima r wishing happiness          1\n",
      "999996       dear radhika mahesh rajput          1\n",
      "999997    radhika mahesh rajput wishing          1\n",
      "999998  mahesh rajput wishing happiness          1\n",
      "999999    sukeerthi g wishing happiness          1\n",
      "\n",
      "[1000000 rows x 2 columns]\n"
     ]
    }
   ],
   "source": [
    "sortDataByFileName('fourWordFreq.csv')"
   ]
  },
  {
   "cell_type": "code",
   "execution_count": 78,
   "metadata": {},
   "outputs": [
    {
     "name": "stdout",
     "output_type": "stream",
     "text": [
      "                                     Word  Frequency\n",
      "0                    is going to start in      89207\n",
      "1                   you can also write to      87127\n",
      "2                    can also write to us      87125\n",
      "3                   app from time to time      87099\n",
      "4                 features in the app you      87097\n",
      "...                                   ...        ...\n",
      "999995  minutes before with your notebook          2\n",
      "999996      before with your notebook and          2\n",
      "999997         with your notebook and pen          2\n",
      "999998           your notebook and pen to          2\n",
      "999999          notebook and pen to solve          2\n",
      "\n",
      "[1000000 rows x 2 columns]\n"
     ]
    }
   ],
   "source": [
    "sortDataByFileName('fiveWordFreq.csv')"
   ]
  },
  {
   "cell_type": "code",
   "execution_count": 79,
   "metadata": {},
   "outputs": [
    {
     "name": "stdout",
     "output_type": "stream",
     "text": [
      "                                         Word  Frequency\n",
      "0                    you can also write to us      87125\n",
      "1                   from time to time we will      87097\n",
      "2       tio you will receive important school      87097\n",
      "3              write to us at support theuolo      87097\n",
      "4                 also write to us at support      87097\n",
      "...                                       ...        ...\n",
      "999995                  a note of this and be          2\n",
      "999996                   july pm cae ab ba da          2\n",
      "999997                   is july pm cae ab ba          2\n",
      "999998                 date is july pm cae ab          2\n",
      "999999        write again thank you chapter d          2\n",
      "\n",
      "[1000000 rows x 2 columns]\n"
     ]
    }
   ],
   "source": [
    "sortDataByFileName('sixWordFreq.csv')"
   ]
  },
  {
   "cell_type": "code",
   "execution_count": 80,
   "metadata": {},
   "outputs": [
    {
     "name": "stdout",
     "output_type": "stream",
     "text": [
      "                                                     Word  Frequency\n",
      "0                    am ms tio you will receive important      87097\n",
      "1                         new features in the app you can      87097\n",
      "2                        to time we will update you about      87097\n",
      "3                       time we will update you about new      87097\n",
      "4                   we will update you about new features      87097\n",
      "...                                                   ...        ...\n",
      "999995   in minutes https //vc service theuolo com/z/cvts          2\n",
      "999996  the link https //vc service theuolo com/zoch/d...          2\n",
      "999997                    class vii a b sanskrit time aug          2\n",
      "999998  the link https //vc service theuolo com/zoch/g...          2\n",
      "999999  the link https //vc service theuolo com/zoch/i...          2\n",
      "\n",
      "[1000000 rows x 2 columns]\n"
     ]
    }
   ],
   "source": [
    "sortDataByFileName('sevenWordFreq.csv')"
   ]
  },
  {
   "cell_type": "code",
   "execution_count": null,
   "metadata": {},
   "outputs": [],
   "source": []
  }
 ],
 "metadata": {
  "kernelspec": {
   "display_name": "Python 3",
   "language": "python",
   "name": "python3"
  },
  "language_info": {
   "codemirror_mode": {
    "name": "ipython",
    "version": 3
   },
   "file_extension": ".py",
   "mimetype": "text/x-python",
   "name": "python",
   "nbconvert_exporter": "python",
   "pygments_lexer": "ipython3",
   "version": "3.8.5"
  }
 },
 "nbformat": 4,
 "nbformat_minor": 4
}
